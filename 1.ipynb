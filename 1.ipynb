{
 "cells": [
  {
   "cell_type": "code",
   "execution_count": null,
   "metadata": {
    "colab": {
     "base_uri": "https://localhost:8080/"
    },
    "id": "DlunL7n6HBCo",
    "outputId": "0bd336ef-c355-49da-dbe7-d6738e742fa3"
   },
   "outputs": [
    {
     "name": "stdout",
     "output_type": "stream",
     "text": [
      "0    1.0\n",
      "1    NaN\n",
      "2    2.0\n",
      "3    NaN\n",
      "4    3.0\n",
      "5    4.0\n",
      "6    NaN\n",
      "7    8.0\n",
      "dtype: float64\n"
     ]
    }
   ],
   "source": [
    "import pandas as pd\n",
    "import numpy as np\n",
    "\n",
    "null_values=pd.Series([1,np.NaN,2,np.NaN,3,4,np.NaN,8])\n",
    "print(null_values)"
   ]
  },
  {
   "cell_type": "code",
   "execution_count": null,
   "metadata": {
    "colab": {
     "base_uri": "https://localhost:8080/"
    },
    "id": "WQUPa1U_L_Mz",
    "outputId": "70052f63-c3f9-4ecc-fcf1-2c25a09a05db"
   },
   "outputs": [
    {
     "data": {
      "text/plain": [
       "0    False\n",
       "1     True\n",
       "2    False\n",
       "3     True\n",
       "4    False\n",
       "5    False\n",
       "6     True\n",
       "7    False\n",
       "dtype: bool"
      ]
     },
     "execution_count": 4,
     "metadata": {},
     "output_type": "execute_result"
    }
   ],
   "source": [
    "null_values.isna()"
   ]
  },
  {
   "cell_type": "code",
   "execution_count": null,
   "metadata": {
    "colab": {
     "base_uri": "https://localhost:8080/"
    },
    "id": "qIf93opDMLKh",
    "outputId": "25881c69-41d8-4808-a055-ee9058fce81d"
   },
   "outputs": [
    {
     "data": {
      "text/plain": [
       "0     True\n",
       "1    False\n",
       "2     True\n",
       "3    False\n",
       "4     True\n",
       "5     True\n",
       "6    False\n",
       "7     True\n",
       "dtype: bool"
      ]
     },
     "execution_count": 5,
     "metadata": {},
     "output_type": "execute_result"
    }
   ],
   "source": [
    "null_values.notna()"
   ]
  },
  {
   "cell_type": "code",
   "execution_count": null,
   "metadata": {
    "colab": {
     "base_uri": "https://localhost:8080/"
    },
    "id": "6eTfCwj5MSZp",
    "outputId": "50bec6b5-8cc0-441c-a31c-1e1344fd9201"
   },
   "outputs": [
    {
     "data": {
      "text/plain": [
       "0    1.0\n",
       "1    1.5\n",
       "2    2.0\n",
       "3    2.5\n",
       "4    3.0\n",
       "5    4.0\n",
       "6    6.0\n",
       "7    8.0\n",
       "dtype: float64"
      ]
     },
     "execution_count": 7,
     "metadata": {},
     "output_type": "execute_result"
    }
   ],
   "source": [
    "null_values.interpolate()"
   ]
  },
  {
   "cell_type": "code",
   "execution_count": null,
   "metadata": {
    "id": "vA3NUlO7Mk2J"
   },
   "outputs": [],
   "source": []
  },
  {
   "cell_type": "code",
   "execution_count": null,
   "metadata": {
    "colab": {
     "base_uri": "https://localhost:8080/"
    },
    "id": "tUBRNCh7MsAB",
    "outputId": "a5b04ff6-f278-4211-8734-702a744e4474"
   },
   "outputs": [
    {
     "data": {
      "text/plain": [
       "0    1.0\n",
       "1    2.0\n",
       "2    2.0\n",
       "3    3.0\n",
       "4    3.0\n",
       "5    4.0\n",
       "6    8.0\n",
       "7    8.0\n",
       "dtype: float64"
      ]
     },
     "execution_count": 9,
     "metadata": {},
     "output_type": "execute_result"
    }
   ],
   "source": [
    "null_values.fillna(method='bfill')"
   ]
  },
  {
   "cell_type": "code",
   "execution_count": null,
   "metadata": {
    "colab": {
     "base_uri": "https://localhost:8080/"
    },
    "id": "pHoYYRzIOGQK",
    "outputId": "bbb9e983-c1b6-4382-fb42-b4e5ae18d5fb"
   },
   "outputs": [
    {
     "data": {
      "text/plain": [
       "0    1.0\n",
       "1    0.0\n",
       "2    2.0\n",
       "3    0.0\n",
       "4    3.0\n",
       "5    4.0\n",
       "6    0.0\n",
       "7    8.0\n",
       "dtype: float64"
      ]
     },
     "execution_count": 13,
     "metadata": {},
     "output_type": "execute_result"
    }
   ],
   "source": [
    "null_values.fillna(0)"
   ]
  },
  {
   "cell_type": "code",
   "execution_count": null,
   "metadata": {
    "colab": {
     "base_uri": "https://localhost:8080/"
    },
    "id": "TXUzIoybOdhq",
    "outputId": "90eb65b6-cea4-47fc-c9a1-b3800bf10d17"
   },
   "outputs": [
    {
     "data": {
      "text/plain": [
       "0    1.0\n",
       "1    3.6\n",
       "2    2.0\n",
       "3    3.6\n",
       "4    3.0\n",
       "5    4.0\n",
       "6    3.6\n",
       "7    8.0\n",
       "dtype: float64"
      ]
     },
     "execution_count": 10,
     "metadata": {},
     "output_type": "execute_result"
    }
   ],
   "source": [
    "null_values.fillna(np.mean(null_values))\n"
   ]
  },
  {
   "cell_type": "code",
   "execution_count": null,
   "metadata": {
    "colab": {
     "base_uri": "https://localhost:8080/",
     "height": 73
    },
    "id": "_MTmzjORP4F5",
    "outputId": "6db49ed6-c90a-4999-a406-6660e1e7dd35"
   },
   "outputs": [
    {
     "data": {
      "text/html": [
       "\n",
       "     <input type=\"file\" id=\"files-f133af69-83f3-4d3e-9b3b-e8d07b4a7a5f\" name=\"files[]\" multiple disabled\n",
       "        style=\"border:none\" />\n",
       "     <output id=\"result-f133af69-83f3-4d3e-9b3b-e8d07b4a7a5f\">\n",
       "      Upload widget is only available when the cell has been executed in the\n",
       "      current browser session. Please rerun this cell to enable.\n",
       "      </output>\n",
       "      <script>// Copyright 2017 Google LLC\n",
       "//\n",
       "// Licensed under the Apache License, Version 2.0 (the \"License\");\n",
       "// you may not use this file except in compliance with the License.\n",
       "// You may obtain a copy of the License at\n",
       "//\n",
       "//      http://www.apache.org/licenses/LICENSE-2.0\n",
       "//\n",
       "// Unless required by applicable law or agreed to in writing, software\n",
       "// distributed under the License is distributed on an \"AS IS\" BASIS,\n",
       "// WITHOUT WARRANTIES OR CONDITIONS OF ANY KIND, either express or implied.\n",
       "// See the License for the specific language governing permissions and\n",
       "// limitations under the License.\n",
       "\n",
       "/**\n",
       " * @fileoverview Helpers for google.colab Python module.\n",
       " */\n",
       "(function(scope) {\n",
       "function span(text, styleAttributes = {}) {\n",
       "  const element = document.createElement('span');\n",
       "  element.textContent = text;\n",
       "  for (const key of Object.keys(styleAttributes)) {\n",
       "    element.style[key] = styleAttributes[key];\n",
       "  }\n",
       "  return element;\n",
       "}\n",
       "\n",
       "// Max number of bytes which will be uploaded at a time.\n",
       "const MAX_PAYLOAD_SIZE = 100 * 1024;\n",
       "\n",
       "function _uploadFiles(inputId, outputId) {\n",
       "  const steps = uploadFilesStep(inputId, outputId);\n",
       "  const outputElement = document.getElementById(outputId);\n",
       "  // Cache steps on the outputElement to make it available for the next call\n",
       "  // to uploadFilesContinue from Python.\n",
       "  outputElement.steps = steps;\n",
       "\n",
       "  return _uploadFilesContinue(outputId);\n",
       "}\n",
       "\n",
       "// This is roughly an async generator (not supported in the browser yet),\n",
       "// where there are multiple asynchronous steps and the Python side is going\n",
       "// to poll for completion of each step.\n",
       "// This uses a Promise to block the python side on completion of each step,\n",
       "// then passes the result of the previous step as the input to the next step.\n",
       "function _uploadFilesContinue(outputId) {\n",
       "  const outputElement = document.getElementById(outputId);\n",
       "  const steps = outputElement.steps;\n",
       "\n",
       "  const next = steps.next(outputElement.lastPromiseValue);\n",
       "  return Promise.resolve(next.value.promise).then((value) => {\n",
       "    // Cache the last promise value to make it available to the next\n",
       "    // step of the generator.\n",
       "    outputElement.lastPromiseValue = value;\n",
       "    return next.value.response;\n",
       "  });\n",
       "}\n",
       "\n",
       "/**\n",
       " * Generator function which is called between each async step of the upload\n",
       " * process.\n",
       " * @param {string} inputId Element ID of the input file picker element.\n",
       " * @param {string} outputId Element ID of the output display.\n",
       " * @return {!Iterable<!Object>} Iterable of next steps.\n",
       " */\n",
       "function* uploadFilesStep(inputId, outputId) {\n",
       "  const inputElement = document.getElementById(inputId);\n",
       "  inputElement.disabled = false;\n",
       "\n",
       "  const outputElement = document.getElementById(outputId);\n",
       "  outputElement.innerHTML = '';\n",
       "\n",
       "  const pickedPromise = new Promise((resolve) => {\n",
       "    inputElement.addEventListener('change', (e) => {\n",
       "      resolve(e.target.files);\n",
       "    });\n",
       "  });\n",
       "\n",
       "  const cancel = document.createElement('button');\n",
       "  inputElement.parentElement.appendChild(cancel);\n",
       "  cancel.textContent = 'Cancel upload';\n",
       "  const cancelPromise = new Promise((resolve) => {\n",
       "    cancel.onclick = () => {\n",
       "      resolve(null);\n",
       "    };\n",
       "  });\n",
       "\n",
       "  // Wait for the user to pick the files.\n",
       "  const files = yield {\n",
       "    promise: Promise.race([pickedPromise, cancelPromise]),\n",
       "    response: {\n",
       "      action: 'starting',\n",
       "    }\n",
       "  };\n",
       "\n",
       "  cancel.remove();\n",
       "\n",
       "  // Disable the input element since further picks are not allowed.\n",
       "  inputElement.disabled = true;\n",
       "\n",
       "  if (!files) {\n",
       "    return {\n",
       "      response: {\n",
       "        action: 'complete',\n",
       "      }\n",
       "    };\n",
       "  }\n",
       "\n",
       "  for (const file of files) {\n",
       "    const li = document.createElement('li');\n",
       "    li.append(span(file.name, {fontWeight: 'bold'}));\n",
       "    li.append(span(\n",
       "        `(${file.type || 'n/a'}) - ${file.size} bytes, ` +\n",
       "        `last modified: ${\n",
       "            file.lastModifiedDate ? file.lastModifiedDate.toLocaleDateString() :\n",
       "                                    'n/a'} - `));\n",
       "    const percent = span('0% done');\n",
       "    li.appendChild(percent);\n",
       "\n",
       "    outputElement.appendChild(li);\n",
       "\n",
       "    const fileDataPromise = new Promise((resolve) => {\n",
       "      const reader = new FileReader();\n",
       "      reader.onload = (e) => {\n",
       "        resolve(e.target.result);\n",
       "      };\n",
       "      reader.readAsArrayBuffer(file);\n",
       "    });\n",
       "    // Wait for the data to be ready.\n",
       "    let fileData = yield {\n",
       "      promise: fileDataPromise,\n",
       "      response: {\n",
       "        action: 'continue',\n",
       "      }\n",
       "    };\n",
       "\n",
       "    // Use a chunked sending to avoid message size limits. See b/62115660.\n",
       "    let position = 0;\n",
       "    do {\n",
       "      const length = Math.min(fileData.byteLength - position, MAX_PAYLOAD_SIZE);\n",
       "      const chunk = new Uint8Array(fileData, position, length);\n",
       "      position += length;\n",
       "\n",
       "      const base64 = btoa(String.fromCharCode.apply(null, chunk));\n",
       "      yield {\n",
       "        response: {\n",
       "          action: 'append',\n",
       "          file: file.name,\n",
       "          data: base64,\n",
       "        },\n",
       "      };\n",
       "\n",
       "      let percentDone = fileData.byteLength === 0 ?\n",
       "          100 :\n",
       "          Math.round((position / fileData.byteLength) * 100);\n",
       "      percent.textContent = `${percentDone}% done`;\n",
       "\n",
       "    } while (position < fileData.byteLength);\n",
       "  }\n",
       "\n",
       "  // All done.\n",
       "  yield {\n",
       "    response: {\n",
       "      action: 'complete',\n",
       "    }\n",
       "  };\n",
       "}\n",
       "\n",
       "scope.google = scope.google || {};\n",
       "scope.google.colab = scope.google.colab || {};\n",
       "scope.google.colab._files = {\n",
       "  _uploadFiles,\n",
       "  _uploadFilesContinue,\n",
       "};\n",
       "})(self);\n",
       "</script> "
      ],
      "text/plain": [
       "<IPython.core.display.HTML object>"
      ]
     },
     "metadata": {},
     "output_type": "display_data"
    },
    {
     "name": "stdout",
     "output_type": "stream",
     "text": [
      "Saving StudentsPerformance.csv to StudentsPerformance.csv\n"
     ]
    }
   ],
   "source": [
    "from google.colab import files\n",
    "uploaded=files.upload()"
   ]
  },
  {
   "cell_type": "code",
   "execution_count": null,
   "metadata": {
    "colab": {
     "base_uri": "https://localhost:8080/",
     "height": 766
    },
    "id": "au4B-TkLdH18",
    "outputId": "fb45afe4-dabf-43e1-dd4a-90a0b7807cda"
   },
   "outputs": [
    {
     "name": "stdout",
     "output_type": "stream",
     "text": [
      "    gender race/ethnicity parental level of education         lunch  \\\n",
      "0   female        group B           bachelor's degree      standard   \n",
      "1   female        group C                some college      standard   \n",
      "2   female        group B             master's degree      standard   \n",
      "3   female        group A          associate's degree  free/reduced   \n",
      "4   female        group C                some college      standard   \n",
      "5   female        group B          associate's degree      standard   \n",
      "6   female        group B                some college      standard   \n",
      "7   female        group B                some college  free/reduced   \n",
      "8   female        group D                 high school  free/reduced   \n",
      "9   female        group B                 high school  free/reduced   \n",
      "10  female        group C          associate's degree      standard   \n",
      "11  female        group D          associate's degree      standard   \n",
      "12  female        group B                 high school      standard   \n",
      "13  female        group A                some college      standard   \n",
      "14  female        group A             master's degree      standard   \n",
      "15  female        group C            some high school      standard   \n",
      "16  female        group C                 high school      standard   \n",
      "17  female        group B            some high school  free/reduced   \n",
      "18  female        group C             master's degree  free/reduced   \n",
      "\n",
      "   test preparation course  math score  reading score  writing score  \n",
      "0                     none          72         72.000      65.647059  \n",
      "1                completed          69         67.625      88.000000  \n",
      "2                     none          90         95.000      93.000000  \n",
      "3                     none          47         57.000      65.647059  \n",
      "4                     none          76         78.000      75.000000  \n",
      "5                     none          71         83.000      78.000000  \n",
      "6                completed          88         95.000      92.000000  \n",
      "7                     none          40         67.625      39.000000  \n",
      "8                completed          64         64.000      67.000000  \n",
      "9                     none          38         60.000      50.000000  \n",
      "10                    none          58         54.000      52.000000  \n",
      "11                    none          40         52.000      43.000000  \n",
      "12                    none          65         81.000      73.000000  \n",
      "13               completed          78         67.625      70.000000  \n",
      "14                    none          50         53.000      58.000000  \n",
      "15                    none          69         75.000      78.000000  \n",
      "16                    none          88         89.000      86.000000  \n",
      "17                    none          18         32.000      28.000000  \n",
      "18               completed          46         42.000      46.000000  \n"
     ]
    },
    {
     "data": {
      "application/javascript": [
       "\n",
       "    async function download(id, filename, size) {\n",
       "      if (!google.colab.kernel.accessAllowed) {\n",
       "        return;\n",
       "      }\n",
       "      const div = document.createElement('div');\n",
       "      const label = document.createElement('label');\n",
       "      label.textContent = `Downloading \"${filename}\": `;\n",
       "      div.appendChild(label);\n",
       "      const progress = document.createElement('progress');\n",
       "      progress.max = size;\n",
       "      div.appendChild(progress);\n",
       "      document.body.appendChild(div);\n",
       "\n",
       "      const buffers = [];\n",
       "      let downloaded = 0;\n",
       "\n",
       "      const channel = await google.colab.kernel.comms.open(id);\n",
       "      // Send a message to notify the kernel that we're ready.\n",
       "      channel.send({})\n",
       "\n",
       "      for await (const message of channel.messages) {\n",
       "        // Send a message to notify the kernel that we're ready.\n",
       "        channel.send({})\n",
       "        if (message.buffers) {\n",
       "          for (const buffer of message.buffers) {\n",
       "            buffers.push(buffer);\n",
       "            downloaded += buffer.byteLength;\n",
       "            progress.value = downloaded;\n",
       "          }\n",
       "        }\n",
       "      }\n",
       "      const blob = new Blob(buffers, {type: 'application/binary'});\n",
       "      const a = document.createElement('a');\n",
       "      a.href = window.URL.createObjectURL(blob);\n",
       "      a.download = filename;\n",
       "      div.appendChild(a);\n",
       "      a.click();\n",
       "      div.remove();\n",
       "    }\n",
       "  "
      ],
      "text/plain": [
       "<IPython.core.display.Javascript object>"
      ]
     },
     "metadata": {},
     "output_type": "display_data"
    },
    {
     "data": {
      "application/javascript": [
       "download(\"download_58183c98-3638-4b3c-9d8b-7f654b8b19d9\", \"StudentsPerformance.csv\", 1333)"
      ],
      "text/plain": [
       "<IPython.core.display.Javascript object>"
      ]
     },
     "metadata": {},
     "output_type": "display_data"
    }
   ],
   "source": [
    "import pandas as pd\n",
    "import numpy as np\n",
    "import io\n",
    "\n",
    "pdf=pd.read_csv(io.BytesIO(uploaded['StudentsPerformance.csv']))\n",
    "\n",
    "pdf.fillna({\"writing score\":pdf[\"writing score\"].mean()},inplace=True)\n",
    "pdf.fillna({\"reading score\":pdf[\"reading score\"].mean()},inplace=True)\n",
    "pdf[\"gender\"].fillna(\"male\",inplace=True)\n",
    "pdf.replace('male','female',inplace=True)\n",
    "\n",
    "print(pdf)\n",
    "\n",
    "from google.colab import files\n",
    "pdf.to_csv('StudentsPerformance.csv',encoding='utf-8')\n",
    "files.download('StudentsPerformance.csv')\n",
    "\n",
    "\n"
   ]
  },
  {
   "cell_type": "code",
   "execution_count": null,
   "metadata": {
    "colab": {
     "base_uri": "https://localhost:8080/"
    },
    "id": "-TEmKdNlOcZq",
    "outputId": "f16f4a9e-1973-4b2a-d1ac-bcfb486fe0f5"
   },
   "outputs": [
    {
     "name": "stdout",
     "output_type": "stream",
     "text": [
      "    gender race/ethnicity parental level of education         lunch  \\\n",
      "0      NaN        group B           bachelor's degree      standard   \n",
      "1   female        group C                some college      standard   \n",
      "2   female        group B             master's degree      standard   \n",
      "3      NaN        group A          associate's degree  free/reduced   \n",
      "4     male        group C                some college      standard   \n",
      "5   female        group B          associate's degree      standard   \n",
      "6      NaN        group B                some college      standard   \n",
      "7     male        group B                some college  free/reduced   \n",
      "8     male        group D                 high school  free/reduced   \n",
      "9   female        group B                 high school  free/reduced   \n",
      "10    male        group C          associate's degree      standard   \n",
      "11    male        group D          associate's degree      standard   \n",
      "12  female        group B                 high school      standard   \n",
      "13    male        group A                some college      standard   \n",
      "14  female        group A             master's degree      standard   \n",
      "15  female        group C            some high school      standard   \n",
      "16    male        group C                 high school      standard   \n",
      "17  female        group B            some high school  free/reduced   \n",
      "18    male        group C             master's degree  free/reduced   \n",
      "\n",
      "   test preparation course  math score  reading score  writing score  \n",
      "0                     none          72           72.0            NaN  \n",
      "1                completed          69            NaN           88.0  \n",
      "2                     none          90           95.0           93.0  \n",
      "3                     none          47           57.0            NaN  \n",
      "4                     none          76           78.0           75.0  \n",
      "5                     none          71           83.0           78.0  \n",
      "6                completed          88           95.0           92.0  \n",
      "7                     none          40            NaN           39.0  \n",
      "8                completed          64           64.0           67.0  \n",
      "9                     none          38           60.0           50.0  \n",
      "10                    none          58           54.0           52.0  \n",
      "11                    none          40           52.0           43.0  \n",
      "12                    none          65           81.0           73.0  \n",
      "13               completed          78            NaN           70.0  \n",
      "14                    none          50           53.0           58.0  \n",
      "15                    none          69           75.0           78.0  \n",
      "16                    none          88           89.0           86.0  \n",
      "17                    none          18           32.0           28.0  \n",
      "18               completed          46           42.0           46.0  \n"
     ]
    }
   ],
   "source": [
    "import pandas as pd\n",
    "import io \n",
    "pdf=pd.read_csv(io.BytesIO(uploaded['StudentsPerformance.csv']))\n",
    "pdf.gender.fillna(\"male\")\n",
    "\n",
    "print(pdf)\n",
    "\n"
   ]
  }
 ],
 "metadata": {
  "colab": {
   "provenance": []
  },
  "kernelspec": {
   "display_name": "Python 3 (ipykernel)",
   "language": "python",
   "name": "python3"
  },
  "language_info": {
   "codemirror_mode": {
    "name": "ipython",
    "version": 3
   },
   "file_extension": ".py",
   "mimetype": "text/x-python",
   "name": "python",
   "nbconvert_exporter": "python",
   "pygments_lexer": "ipython3",
   "version": "3.10.9"
  }
 },
 "nbformat": 4,
 "nbformat_minor": 1
}
